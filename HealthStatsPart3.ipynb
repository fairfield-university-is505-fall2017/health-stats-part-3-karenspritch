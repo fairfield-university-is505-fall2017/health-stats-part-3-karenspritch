{
 "cells": [
  {
   "cell_type": "markdown",
   "metadata": {},
   "source": [
    "# Health Stats Part 2: Waist 2 Hip Ratios"
   ]
  },
  {
   "cell_type": "markdown",
   "metadata": {},
   "source": [
    "<!--- Write an explanation of the Waist To Hips Ratio statistic used by health professionals. Please include an explanation of what it is used for, exactly how it is calculated, and how to interpret the results. Note: Formmatting matters. Make this as professional as you can using Markdown.  --->\n",
    "EDIT THIS MARKDOWN CELL"
   ]
  },
  {
   "cell_type": "markdown",
   "metadata": {},
   "source": [
    "## Source Data "
   ]
  },
  {
   "cell_type": "markdown",
   "metadata": {},
   "source": [
    "<!--- Replace the text below with a Markdown bullet list that defines the columns of the CSV file. Be sure to indicate the data type for each column. --->\n",
    "EDIT THIS MARKDOWN CELL"
   ]
  },
  {
   "cell_type": "markdown",
   "metadata": {},
   "source": [
    "## Data Import"
   ]
  },
  {
   "cell_type": "code",
   "execution_count": 18,
   "metadata": {
    "collapsed": true
   },
   "outputs": [],
   "source": [
    "# Goal: Extract the data from the file\n",
    "\n",
    "#import numpy\n",
    "import numpy as np\n",
    "\n",
    "#create rows array shape=(20,) ndim=1 \n",
    "#dtype([('ID', '<i8'), ('Waist', '<i8'), ('Hip', '<i8'), ('Gender', 'S25')])\n",
    "rows = np.genfromtxt(\"w2h_data.csv\",names=True,dtype=(int,int,int,'S25'),delimiter=',')\n"
   ]
  },
  {
   "cell_type": "markdown",
   "metadata": {},
   "source": [
    "## Calculations"
   ]
  },
  {
   "cell_type": "code",
   "execution_count": 19,
   "metadata": {},
   "outputs": [
    {
     "name": "stderr",
     "output_type": "stream",
     "text": [
      "/anaconda/lib/python3.6/site-packages/ipykernel_launcher.py:6: FutureWarning: Assignment between structured arrays with different field names will change in numpy 1.13.\n",
      "\n",
      "Previously fields in the dst would be set to the value of the identically-named field in the src. In numpy 1.13 fields will instead be assigned 'by position': The Nth field of the dst will be set to the Nth field of the src array.\n",
      "\n",
      "See the release notes for details\n",
      "  \n",
      "/anaconda/lib/python3.6/site-packages/ipykernel_launcher.py:12: FutureWarning: Assignment between structured arrays with different field names will change in numpy 1.13.\n",
      "\n",
      "Previously fields in the dst would be set to the value of the identically-named field in the src. In numpy 1.13 fields will instead be assigned 'by position': The Nth field of the dst will be set to the Nth field of the src array.\n",
      "\n",
      "See the release notes for details\n",
      "  if sys.path[0] == '':\n"
     ]
    },
    {
     "ename": "ValueError",
     "evalue": "The truth value of an array with more than one element is ambiguous. Use a.any() or a.all()",
     "output_type": "error",
     "traceback": [
      "\u001b[0;31m---------------------------------------------------------------------------\u001b[0m",
      "\u001b[0;31mValueError\u001b[0m                                Traceback (most recent call last)",
      "\u001b[0;32m<ipython-input-19-94b0d73c40d7>\u001b[0m in \u001b[0;36m<module>\u001b[0;34m()\u001b[0m\n\u001b[1;32m     12\u001b[0m \u001b[0mrows\u001b[0m\u001b[0;34m[\u001b[0m\u001b[0;34m:\u001b[0m\u001b[0;34m]\u001b[0m\u001b[0;34m=\u001b[0m\u001b[0mw2h_ratio\u001b[0m\u001b[0;34m\u001b[0m\u001b[0m\n\u001b[1;32m     13\u001b[0m \u001b[0;34m\u001b[0m\u001b[0m\n\u001b[0;32m---> 14\u001b[0;31m if ((rows['Gender']==b'M' and rows['w2h_ratio'] > 0.9) or \n\u001b[0m\u001b[1;32m     15\u001b[0m          (rows['Gender'] == b'F' and rows['w2h_ratio'] > 0.8)):\n\u001b[1;32m     16\u001b[0m     \u001b[0mrows\u001b[0m\u001b[0;34m[\u001b[0m\u001b[0mshape\u001b[0m\u001b[0;34m]\u001b[0m\u001b[0;34m=\u001b[0m\u001b[0;34m\"Apple\"\u001b[0m\u001b[0;34m\u001b[0m\u001b[0m\n",
      "\u001b[0;31mValueError\u001b[0m: The truth value of an array with more than one element is ambiguous. Use a.any() or a.all()"
     ]
    }
   ],
   "source": [
    "# Goal: For each row of data calculate and store the w2h_ratio and shape.\n",
    "\n",
    "# For each row in the array, calculate the waist to hips ratio and shape\n",
    "new_dt = np.dtype(rows.dtype.descr + [('w2h_ratio', 'float64')])\n",
    "w2h_ratio = np.zeros(rows.shape, dtype=new_dt)\n",
    "w2h_ratio[:]=rows\n",
    "w2h_ratio['w2h_ratio'] = rows['Waist']/rows['Hip'] #dtype=('float64') shape=(20,) ndim=1\n",
    "\n",
    "# Based on the ratio and the gender, set the variable shape to either 'apple' or 'pear'\n",
    "new_dt = np.dtype(w2h_ratio.dtype.descr + [('shape', 'S25')])\n",
    "rows = np.zeros(w2h_ratio.shape, dtype=new_dt)\n",
    "rows[:]=w2h_ratio\n",
    "\n",
    "if ((rows['Gender']==b'M' and rows['w2h_ratio'] > 0.9) or \n",
    "         (rows['Gender'] == b'F' and rows['w2h_ratio'] > 0.8)):\n",
    "    rows[shape]=\"Apple\"\n",
    "else:\n",
    "    rows[shape]=\"Pear\""
   ]
  },
  {
   "cell_type": "markdown",
   "metadata": {},
   "source": [
    "## Output"
   ]
  },
  {
   "cell_type": "code",
   "execution_count": 36,
   "metadata": {},
   "outputs": [
    {
     "data": {
      "text/html": [
       "<table><tr><th>ID</th><th>Waist</th><th>Hip</th><th>Gender</th><th>w2h_ratio</th><th>shape</th></tr><tr><td>ID</td><td>Waist</td><td>Hip</td><td>Gender</td><td>w2h_ratio</td><td>shape</td></tr><tr><td>ID</td><td>Waist</td><td>Hip</td><td>Gender</td><td>w2h_ratio</td><td>shape</td></tr><tr><td>ID</td><td>Waist</td><td>Hip</td><td>Gender</td><td>w2h_ratio</td><td>shape</td></tr><tr><td>ID</td><td>Waist</td><td>Hip</td><td>Gender</td><td>w2h_ratio</td><td>shape</td></tr><tr><td>ID</td><td>Waist</td><td>Hip</td><td>Gender</td><td>w2h_ratio</td><td>shape</td></tr><tr><td>ID</td><td>Waist</td><td>Hip</td><td>Gender</td><td>w2h_ratio</td><td>shape</td></tr><tr><td>ID</td><td>Waist</td><td>Hip</td><td>Gender</td><td>w2h_ratio</td><td>shape</td></tr><tr><td>ID</td><td>Waist</td><td>Hip</td><td>Gender</td><td>w2h_ratio</td><td>shape</td></tr><tr><td>ID</td><td>Waist</td><td>Hip</td><td>Gender</td><td>w2h_ratio</td><td>shape</td></tr><tr><td>ID</td><td>Waist</td><td>Hip</td><td>Gender</td><td>w2h_ratio</td><td>shape</td></tr><tr><td>ID</td><td>Waist</td><td>Hip</td><td>Gender</td><td>w2h_ratio</td><td>shape</td></tr><tr><td>ID</td><td>Waist</td><td>Hip</td><td>Gender</td><td>w2h_ratio</td><td>shape</td></tr><tr><td>ID</td><td>Waist</td><td>Hip</td><td>Gender</td><td>w2h_ratio</td><td>shape</td></tr><tr><td>ID</td><td>Waist</td><td>Hip</td><td>Gender</td><td>w2h_ratio</td><td>shape</td></tr><tr><td>ID</td><td>Waist</td><td>Hip</td><td>Gender</td><td>w2h_ratio</td><td>shape</td></tr><tr><td>ID</td><td>Waist</td><td>Hip</td><td>Gender</td><td>w2h_ratio</td><td>shape</td></tr><tr><td>ID</td><td>Waist</td><td>Hip</td><td>Gender</td><td>w2h_ratio</td><td>shape</td></tr><tr><td>ID</td><td>Waist</td><td>Hip</td><td>Gender</td><td>w2h_ratio</td><td>shape</td></tr><tr><td>ID</td><td>Waist</td><td>Hip</td><td>Gender</td><td>w2h_ratio</td><td>shape</td></tr><tr><td>ID</td><td>Waist</td><td>Hip</td><td>Gender</td><td>w2h_ratio</td><td>shape</td></tr></table>"
      ],
      "text/plain": [
       "<IPython.core.display.HTML object>"
      ]
     },
     "metadata": {},
     "output_type": "display_data"
    },
    {
     "ename": "TypeError",
     "evalue": "Mismatch between array dtype ('[('ID', '<i8'), ('Waist', '<i8'), ('Hip', '<i8'), ('Gender', 'S25'), ('w2h_ratio', '<f8'), ('shape', 'S25')]') and format specifier ('%.18e,%.18e,%.18e,%.18e,%.18e,%.18e')",
     "output_type": "error",
     "traceback": [
      "\u001b[0;31m---------------------------------------------------------------------------\u001b[0m",
      "\u001b[0;31mTypeError\u001b[0m                                 Traceback (most recent call last)",
      "\u001b[0;32m/anaconda/lib/python3.6/site-packages/numpy/lib/npyio.py\u001b[0m in \u001b[0;36msavetxt\u001b[0;34m(fname, X, fmt, delimiter, newline, header, footer, comments)\u001b[0m\n\u001b[1;32m   1214\u001b[0m                 \u001b[0;32mtry\u001b[0m\u001b[0;34m:\u001b[0m\u001b[0;34m\u001b[0m\u001b[0m\n\u001b[0;32m-> 1215\u001b[0;31m                     \u001b[0mfh\u001b[0m\u001b[0;34m.\u001b[0m\u001b[0mwrite\u001b[0m\u001b[0;34m(\u001b[0m\u001b[0masbytes\u001b[0m\u001b[0;34m(\u001b[0m\u001b[0mformat\u001b[0m \u001b[0;34m%\u001b[0m \u001b[0mtuple\u001b[0m\u001b[0;34m(\u001b[0m\u001b[0mrow\u001b[0m\u001b[0;34m)\u001b[0m \u001b[0;34m+\u001b[0m \u001b[0mnewline\u001b[0m\u001b[0;34m)\u001b[0m\u001b[0;34m)\u001b[0m\u001b[0;34m\u001b[0m\u001b[0m\n\u001b[0m\u001b[1;32m   1216\u001b[0m                 \u001b[0;32mexcept\u001b[0m \u001b[0mTypeError\u001b[0m\u001b[0;34m:\u001b[0m\u001b[0;34m\u001b[0m\u001b[0m\n",
      "\u001b[0;31mTypeError\u001b[0m: must be real number, not numpy.bytes_",
      "\nDuring handling of the above exception, another exception occurred:\n",
      "\u001b[0;31mTypeError\u001b[0m                                 Traceback (most recent call last)",
      "\u001b[0;32m<ipython-input-36-e467183a2b2d>\u001b[0m in \u001b[0;36m<module>\u001b[0;34m()\u001b[0m\n\u001b[1;32m     20\u001b[0m \u001b[0;34m\u001b[0m\u001b[0m\n\u001b[1;32m     21\u001b[0m \u001b[0;31m#write to CSV file\u001b[0m\u001b[0;34m\u001b[0m\u001b[0;34m\u001b[0m\u001b[0m\n\u001b[0;32m---> 22\u001b[0;31m \u001b[0mnp\u001b[0m\u001b[0;34m.\u001b[0m\u001b[0msavetxt\u001b[0m\u001b[0;34m(\u001b[0m\u001b[0;34m\"StatsResults.csv\"\u001b[0m\u001b[0;34m,\u001b[0m\u001b[0mrows\u001b[0m\u001b[0;34m,\u001b[0m\u001b[0mdelimiter\u001b[0m\u001b[0;34m=\u001b[0m\u001b[0;34m\",\"\u001b[0m\u001b[0;34m)\u001b[0m\u001b[0;34m\u001b[0m\u001b[0m\n\u001b[0m",
      "\u001b[0;32m/anaconda/lib/python3.6/site-packages/numpy/lib/npyio.py\u001b[0m in \u001b[0;36msavetxt\u001b[0;34m(fname, X, fmt, delimiter, newline, header, footer, comments)\u001b[0m\n\u001b[1;32m   1217\u001b[0m                     raise TypeError(\"Mismatch between array dtype ('%s') and \"\n\u001b[1;32m   1218\u001b[0m                                     \u001b[0;34m\"format specifier ('%s')\"\u001b[0m\u001b[0;34m\u001b[0m\u001b[0m\n\u001b[0;32m-> 1219\u001b[0;31m                                     % (str(X.dtype), format))\n\u001b[0m\u001b[1;32m   1220\u001b[0m         \u001b[0;32mif\u001b[0m \u001b[0mlen\u001b[0m\u001b[0;34m(\u001b[0m\u001b[0mfooter\u001b[0m\u001b[0;34m)\u001b[0m \u001b[0;34m>\u001b[0m \u001b[0;36m0\u001b[0m\u001b[0;34m:\u001b[0m\u001b[0;34m\u001b[0m\u001b[0m\n\u001b[1;32m   1221\u001b[0m             \u001b[0mfooter\u001b[0m \u001b[0;34m=\u001b[0m \u001b[0mfooter\u001b[0m\u001b[0;34m.\u001b[0m\u001b[0mreplace\u001b[0m\u001b[0;34m(\u001b[0m\u001b[0;34m'\\n'\u001b[0m\u001b[0;34m,\u001b[0m \u001b[0;34m'\\n'\u001b[0m \u001b[0;34m+\u001b[0m \u001b[0mcomments\u001b[0m\u001b[0;34m)\u001b[0m\u001b[0;34m\u001b[0m\u001b[0m\n",
      "\u001b[0;31mTypeError\u001b[0m: Mismatch between array dtype ('[('ID', '<i8'), ('Waist', '<i8'), ('Hip', '<i8'), ('Gender', 'S25'), ('w2h_ratio', '<f8'), ('shape', 'S25')]') and format specifier ('%.18e,%.18e,%.18e,%.18e,%.18e,%.18e')"
     ]
    }
   ],
   "source": [
    "# Goal: pretty print the rows as an HTML table\n",
    "\n",
    "# Note: this works, but we can do this much better with pandas\n",
    "html_table = '<table><tr><th>'\n",
    "html_table += \"</th><th>\".join(rows.dtype.names)\n",
    "html_table += '</th></tr>'\n",
    "for row in rows:\n",
    "    html_table += \"<tr><td>\"\n",
    "    html_table += \"</td><td>\".join(str(v) for v in rows.dtype.fields)\n",
    "    html_table += \"</td></tr>\"\n",
    "html_table += \"</table>\"\n",
    "\n",
    "from IPython.display import HTML, display\n",
    "display(HTML(html_table))\n",
    "\n",
    "#write to HTML file\n",
    "f=open(\"StatsResults.html\",'w')\n",
    "f.write(html_table)\n",
    "f.close()\n",
    "\n",
    "#write to CSV file\n",
    "np.savetxt(\"StatsResults.csv\",rows,delimiter=\",\")"
   ]
  },
  {
   "cell_type": "code",
   "execution_count": null,
   "metadata": {
    "collapsed": true
   },
   "outputs": [],
   "source": []
  }
 ],
 "metadata": {
  "kernelspec": {
   "display_name": "Python 3",
   "language": "python",
   "name": "python3"
  },
  "language_info": {
   "codemirror_mode": {
    "name": "ipython",
    "version": 3
   },
   "file_extension": ".py",
   "mimetype": "text/x-python",
   "name": "python",
   "nbconvert_exporter": "python",
   "pygments_lexer": "ipython3",
   "version": "3.6.1"
  }
 },
 "nbformat": 4,
 "nbformat_minor": 2
}
